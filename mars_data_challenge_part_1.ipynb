{
 "cells": [
  {
   "cell_type": "code",
   "execution_count": 1,
   "id": "c9d4c10a",
   "metadata": {},
   "outputs": [],
   "source": [
    "import re\n",
    "from splinter import Browser\n",
    "\n",
    "from bs4 import BeautifulSoup\n",
    "import pandas as pd\n",
    "import time\n",
    "\n",
    "from webdriver_manager.chrome import ChromeDriverManager"
   ]
  },
  {
   "cell_type": "code",
   "execution_count": 2,
   "id": "5b6e057a",
   "metadata": {},
   "outputs": [
    {
     "name": "stderr",
     "output_type": "stream",
     "text": [
      "[WDM] - Downloading: 100%|████████████████████████████████████████████████████████| 6.46M/6.46M [00:00<00:00, 11.1MB/s]\n"
     ]
    }
   ],
   "source": [
    "# Set up Splinter\n",
    "executable_path = { 'executable_path': ChromeDriverManager().install()}\n",
    "browser = Browser('chrome', **executable_path, headless=False)"
   ]
  },
  {
   "cell_type": "code",
   "execution_count": 6,
   "id": "43e48cd1",
   "metadata": {},
   "outputs": [],
   "source": [
    "# Visit the Mars Facts site\n",
    "url_news = 'https://redplanetscience.com'\n",
    "browser.visit(url_news)\n",
    "\n",
    "# Optional delay for loading the page\n",
    "browser.is_element_present_by_css('div.list_text', wait_time=1)\n",
    "\n",
    "# Set up the HTML parser\n",
    "html = browser.html\n",
    "news_soup = BeautifulSoup(html, \"html.parser\")\n",
    "side_elem = news_soup.select('div.list_text')"
   ]
  },
  {
   "cell_type": "code",
   "execution_count": 11,
   "id": "33bb9c16",
   "metadata": {},
   "outputs": [],
   "source": [
    "# Append Red Planet's news titles and previews\n",
    "news_elem = []\n",
    "for elem in side_elem:\n",
    "    news_t = elem.find('div', class_='content_title').text\n",
    "    news_p = elem.find('div', class_='article_teaser_body').text\n",
    "    news_elem.append({'title':news_t, 'preview': news_p})"
   ]
  },
  {
   "cell_type": "code",
   "execution_count": 12,
   "id": "3516845c",
   "metadata": {},
   "outputs": [],
   "source": [
    "# Export the scraped data to a JSON file\n",
    "import json\n",
    "data = './Data/redplanet_news.json'\n",
    "with open('data.json', 'w', encoding='utf-8') as f:\n",
    "    json.dump(news_elem, f, ensure_ascii=False, indent=4)\n",
    "f.close()"
   ]
  },
  {
   "cell_type": "code",
   "execution_count": 13,
   "id": "ed5a442b",
   "metadata": {},
   "outputs": [],
   "source": [
    "# Close browser\n",
    "browser.quit()"
   ]
  },
  {
   "cell_type": "code",
   "execution_count": null,
   "id": "2e32eb17",
   "metadata": {},
   "outputs": [],
   "source": []
  }
 ],
 "metadata": {
  "kernelspec": {
   "display_name": "Python 3 (ipykernel)",
   "language": "python",
   "name": "python3"
  },
  "language_info": {
   "codemirror_mode": {
    "name": "ipython",
    "version": 3
   },
   "file_extension": ".py",
   "mimetype": "text/x-python",
   "name": "python",
   "nbconvert_exporter": "python",
   "pygments_lexer": "ipython3",
   "version": "3.7.13"
  }
 },
 "nbformat": 4,
 "nbformat_minor": 5
}
